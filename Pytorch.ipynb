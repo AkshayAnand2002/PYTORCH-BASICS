{
  "nbformat": 4,
  "nbformat_minor": 0,
  "metadata": {
    "colab": {
      "provenance": []
    },
    "kernelspec": {
      "name": "python3",
      "display_name": "Python 3"
    },
    "language_info": {
      "name": "python"
    }
  },
  "cells": [
    {
      "cell_type": "code",
      "execution_count": 1,
      "metadata": {
        "id": "ciPDR2ltietB"
      },
      "outputs": [],
      "source": [
        "import torch"
      ]
    },
    {
      "cell_type": "code",
      "source": [
        "torch.rand(2,2)"
      ],
      "metadata": {
        "colab": {
          "base_uri": "https://localhost:8080/"
        },
        "id": "MpLTk2Beiy00",
        "outputId": "b3b99579-17d3-41e7-f6de-3dd37f99451a"
      },
      "execution_count": 2,
      "outputs": [
        {
          "output_type": "execute_result",
          "data": {
            "text/plain": [
              "tensor([[0.9061, 0.5037],\n",
              "        [0.0956, 0.2355]])"
            ]
          },
          "metadata": {},
          "execution_count": 2
        }
      ]
    },
    {
      "cell_type": "code",
      "source": [
        "x=torch.empty(4)\n",
        "print(x)  #1d tensor"
      ],
      "metadata": {
        "colab": {
          "base_uri": "https://localhost:8080/"
        },
        "id": "wF-nqruki9hq",
        "outputId": "af9038cd-c542-45f3-9739-12545b7955c5"
      },
      "execution_count": 3,
      "outputs": [
        {
          "output_type": "stream",
          "name": "stdout",
          "text": [
            "tensor([1.0812e+10, 3.1957e-41, 1.0813e+10, 3.1957e-41])\n"
          ]
        }
      ]
    },
    {
      "cell_type": "code",
      "source": [
        "#above we get 4 values of uninitialized data."
      ],
      "metadata": {
        "id": "QIlwgnoCjH2j"
      },
      "execution_count": 4,
      "outputs": []
    },
    {
      "cell_type": "code",
      "source": [
        "x=torch.empty(2,3)\n",
        "print(x)   #2d tensor"
      ],
      "metadata": {
        "colab": {
          "base_uri": "https://localhost:8080/"
        },
        "id": "CWxeuChajP_d",
        "outputId": "ce4f4aa1-8d5e-4684-f6d1-012a605093cf"
      },
      "execution_count": 5,
      "outputs": [
        {
          "output_type": "stream",
          "name": "stdout",
          "text": [
            "tensor([[1.0849e+10, 3.1957e-41, 1.0798e+10],\n",
            "        [3.1957e-41, 8.9683e-44, 0.0000e+00]])\n"
          ]
        }
      ]
    },
    {
      "cell_type": "code",
      "source": [
        "#3d tensor\n",
        "torch.empty(2,2,3)"
      ],
      "metadata": {
        "colab": {
          "base_uri": "https://localhost:8080/"
        },
        "id": "XHvykyOZjV9B",
        "outputId": "02ca7542-10ca-4b71-821f-2eb09b11ed78"
      },
      "execution_count": 6,
      "outputs": [
        {
          "output_type": "execute_result",
          "data": {
            "text/plain": [
              "tensor([[[1.0439e+10, 3.1957e-41, 1.0439e+10],\n",
              "         [3.1957e-41, 1.9856e+29, 1.7411e+25]],\n",
              "\n",
              "        [[5.5115e-11, 1.3556e-19, 1.3563e-19],\n",
              "         [1.6886e+31, 3.2600e-12, 2.0194e-19]]])"
            ]
          },
          "metadata": {},
          "execution_count": 6
        }
      ]
    },
    {
      "cell_type": "code",
      "source": [
        "torch.empty(3,2,2,4)  #4d tensor"
      ],
      "metadata": {
        "colab": {
          "base_uri": "https://localhost:8080/"
        },
        "id": "sS4lb9ewjfn6",
        "outputId": "4db4b4ef-2ba4-4511-9543-3270c3878049"
      },
      "execution_count": 7,
      "outputs": [
        {
          "output_type": "execute_result",
          "data": {
            "text/plain": [
              "tensor([[[[ 0.0000e+00,  0.0000e+00,  0.0000e+00,  0.0000e+00],\n",
              "          [ 0.0000e+00,  0.0000e+00,  0.0000e+00,  0.0000e+00]],\n",
              "\n",
              "         [[ 0.0000e+00,  0.0000e+00,  0.0000e+00,  0.0000e+00],\n",
              "          [ 0.0000e+00,  0.0000e+00,  0.0000e+00,  0.0000e+00]]],\n",
              "\n",
              "\n",
              "        [[[ 0.0000e+00,  0.0000e+00, -3.4628e+10,  0.0000e+00],\n",
              "          [ 0.0000e+00,  0.0000e+00,  0.0000e+00,  0.0000e+00]],\n",
              "\n",
              "         [[ 0.0000e+00,  0.0000e+00,  0.0000e+00,  0.0000e+00],\n",
              "          [ 0.0000e+00,  0.0000e+00, -9.3378e+10,  4.4095e-41]]],\n",
              "\n",
              "\n",
              "        [[[ 1.0327e+10,  3.1957e-41, -0.0000e+00,  0.0000e+00],\n",
              "          [ 0.0000e+00,  2.2421e-44,  0.0000e+00,  0.0000e+00]],\n",
              "\n",
              "         [[-5.0645e+10,  4.4095e-41, -9.3338e+10,  4.4095e-41],\n",
              "          [-1.5024e+11,  4.4095e-41, -9.5410e-08,  4.4096e-41]]]])"
            ]
          },
          "metadata": {},
          "execution_count": 7
        }
      ]
    },
    {
      "cell_type": "code",
      "source": [
        "torch.zeros(2,2)"
      ],
      "metadata": {
        "colab": {
          "base_uri": "https://localhost:8080/"
        },
        "id": "Dc6tg_kJjrxD",
        "outputId": "c6a955b8-7fde-4ac0-d6ce-634c7f3e4e90"
      },
      "execution_count": 8,
      "outputs": [
        {
          "output_type": "execute_result",
          "data": {
            "text/plain": [
              "tensor([[0., 0.],\n",
              "        [0., 0.]])"
            ]
          },
          "metadata": {},
          "execution_count": 8
        }
      ]
    },
    {
      "cell_type": "code",
      "source": [
        "torch.ones(2,2)"
      ],
      "metadata": {
        "colab": {
          "base_uri": "https://localhost:8080/"
        },
        "id": "HSrIAxHzjydk",
        "outputId": "ee55efa5-e3a6-4b8b-8c6d-31497b7ad6c7"
      },
      "execution_count": 9,
      "outputs": [
        {
          "output_type": "execute_result",
          "data": {
            "text/plain": [
              "tensor([[1., 1.],\n",
              "        [1., 1.]])"
            ]
          },
          "metadata": {},
          "execution_count": 9
        }
      ]
    },
    {
      "cell_type": "code",
      "source": [
        "x=torch.ones(2,2)\n",
        "print(x)"
      ],
      "metadata": {
        "colab": {
          "base_uri": "https://localhost:8080/"
        },
        "id": "LfAgolhlj4R9",
        "outputId": "7a3f2291-769f-4a3c-e26b-443d44fa77c8"
      },
      "execution_count": 10,
      "outputs": [
        {
          "output_type": "stream",
          "name": "stdout",
          "text": [
            "tensor([[1., 1.],\n",
            "        [1., 1.]])\n"
          ]
        }
      ]
    },
    {
      "cell_type": "code",
      "source": [
        "x.size()"
      ],
      "metadata": {
        "colab": {
          "base_uri": "https://localhost:8080/"
        },
        "id": "gI2kfomOkB0x",
        "outputId": "18ffd21f-4d2c-4f9c-96fd-833836a2b770"
      },
      "execution_count": 11,
      "outputs": [
        {
          "output_type": "execute_result",
          "data": {
            "text/plain": [
              "torch.Size([2, 2])"
            ]
          },
          "metadata": {},
          "execution_count": 11
        }
      ]
    },
    {
      "cell_type": "code",
      "source": [
        "x.ndim"
      ],
      "metadata": {
        "colab": {
          "base_uri": "https://localhost:8080/"
        },
        "id": "LN1WUrA5kDLT",
        "outputId": "dcffae02-1a5d-4e25-c73b-f99d81204219"
      },
      "execution_count": 12,
      "outputs": [
        {
          "output_type": "execute_result",
          "data": {
            "text/plain": [
              "2"
            ]
          },
          "metadata": {},
          "execution_count": 12
        }
      ]
    },
    {
      "cell_type": "code",
      "source": [
        "x=torch.ones(3,3,dtype=torch.int)\n",
        "print(x)  #specified datatype"
      ],
      "metadata": {
        "colab": {
          "base_uri": "https://localhost:8080/"
        },
        "id": "aFc-Gsk1kHf-",
        "outputId": "a77e5c8a-5577-4a96-8c89-169b1eae708f"
      },
      "execution_count": 13,
      "outputs": [
        {
          "output_type": "stream",
          "name": "stdout",
          "text": [
            "tensor([[1, 1, 1],\n",
            "        [1, 1, 1],\n",
            "        [1, 1, 1]], dtype=torch.int32)\n"
          ]
        }
      ]
    },
    {
      "cell_type": "code",
      "source": [
        "torch.tensor([4,2,3,1,5,2])"
      ],
      "metadata": {
        "colab": {
          "base_uri": "https://localhost:8080/"
        },
        "id": "Fy6p8RgekSKW",
        "outputId": "c922253e-51d5-42e0-c209-9917bfbed3fb"
      },
      "execution_count": 14,
      "outputs": [
        {
          "output_type": "execute_result",
          "data": {
            "text/plain": [
              "tensor([4, 2, 3, 1, 5, 2])"
            ]
          },
          "metadata": {},
          "execution_count": 14
        }
      ]
    },
    {
      "cell_type": "code",
      "source": [
        "#ensuring we get unique random values everytime\n",
        "torch.manual_seed(42)\n",
        "x=torch.rand(2,2)\n",
        "y=torch.rand(2,2)\n",
        "print(x)\n",
        "print(y)"
      ],
      "metadata": {
        "colab": {
          "base_uri": "https://localhost:8080/"
        },
        "id": "vkT1x47pkYvq",
        "outputId": "2b76e57c-99f0-414d-80fa-5d23a6cb6bc7"
      },
      "execution_count": 16,
      "outputs": [
        {
          "output_type": "stream",
          "name": "stdout",
          "text": [
            "tensor([[0.8823, 0.9150],\n",
            "        [0.3829, 0.9593]])\n",
            "tensor([[0.3904, 0.6009],\n",
            "        [0.2566, 0.7936]])\n"
          ]
        }
      ]
    },
    {
      "cell_type": "code",
      "source": [
        "z=x+y\n",
        "print(z)"
      ],
      "metadata": {
        "colab": {
          "base_uri": "https://localhost:8080/"
        },
        "id": "0DJ681VFk5Bw",
        "outputId": "36c42ce9-f83c-4a20-f6a8-95dfb11cd3be"
      },
      "execution_count": 17,
      "outputs": [
        {
          "output_type": "stream",
          "name": "stdout",
          "text": [
            "tensor([[1.2727, 1.5159],\n",
            "        [0.6394, 1.7529]])\n"
          ]
        }
      ]
    },
    {
      "cell_type": "code",
      "source": [
        "torch.add(x,y)"
      ],
      "metadata": {
        "colab": {
          "base_uri": "https://localhost:8080/"
        },
        "id": "EIRc6JiDlLJz",
        "outputId": "4fcdfc9e-2f0d-4278-cac6-887c905e6257"
      },
      "execution_count": 18,
      "outputs": [
        {
          "output_type": "execute_result",
          "data": {
            "text/plain": [
              "tensor([[1.2727, 1.5159],\n",
              "        [0.6394, 1.7529]])"
            ]
          },
          "metadata": {},
          "execution_count": 18
        }
      ]
    },
    {
      "cell_type": "code",
      "source": [
        "torch.sub(x,y)"
      ],
      "metadata": {
        "colab": {
          "base_uri": "https://localhost:8080/"
        },
        "id": "rlxYDyrwlQe4",
        "outputId": "c0b40392-794b-4d83-fc71-80610e06bed6"
      },
      "execution_count": 19,
      "outputs": [
        {
          "output_type": "execute_result",
          "data": {
            "text/plain": [
              "tensor([[0.4918, 0.3141],\n",
              "        [0.1263, 0.1657]])"
            ]
          },
          "metadata": {},
          "execution_count": 19
        }
      ]
    },
    {
      "cell_type": "code",
      "source": [
        "torch.mul(x,y)"
      ],
      "metadata": {
        "colab": {
          "base_uri": "https://localhost:8080/"
        },
        "id": "vuwJfoUil4ma",
        "outputId": "15d30d66-c7c9-4ee5-e8d9-0c4e7354e548"
      },
      "execution_count": 20,
      "outputs": [
        {
          "output_type": "execute_result",
          "data": {
            "text/plain": [
              "tensor([[0.3445, 0.5498],\n",
              "        [0.0982, 0.7613]])"
            ]
          },
          "metadata": {},
          "execution_count": 20
        }
      ]
    },
    {
      "cell_type": "code",
      "source": [
        "torch.div(x,y)"
      ],
      "metadata": {
        "colab": {
          "base_uri": "https://localhost:8080/"
        },
        "id": "alv6DaownGtI",
        "outputId": "fd6541a0-c785-4e37-cd33-561d9c2cd8d4"
      },
      "execution_count": 21,
      "outputs": [
        {
          "output_type": "execute_result",
          "data": {
            "text/plain": [
              "tensor([[2.2596, 1.5227],\n",
              "        [1.4922, 1.2087]])"
            ]
          },
          "metadata": {},
          "execution_count": 21
        }
      ]
    },
    {
      "cell_type": "code",
      "source": [
        "x=torch.rand(2,2)\n",
        "y=torch.rand(2,2)\n",
        "print(x)\n",
        "print(y)"
      ],
      "metadata": {
        "colab": {
          "base_uri": "https://localhost:8080/"
        },
        "id": "Q5fFoIkMnJFr",
        "outputId": "445e37e3-8d9e-4136-da47-7dd892e11183"
      },
      "execution_count": 22,
      "outputs": [
        {
          "output_type": "stream",
          "name": "stdout",
          "text": [
            "tensor([[0.9408, 0.1332],\n",
            "        [0.9346, 0.5936]])\n",
            "tensor([[0.8694, 0.5677],\n",
            "        [0.7411, 0.4294]])\n"
          ]
        }
      ]
    },
    {
      "cell_type": "code",
      "source": [
        "#inplace addition\n",
        "y.add_(x)"
      ],
      "metadata": {
        "colab": {
          "base_uri": "https://localhost:8080/"
        },
        "id": "Pe9F7VqbnSfB",
        "outputId": "98f9f543-c336-4d05-a04b-8e68a7e149ae"
      },
      "execution_count": 23,
      "outputs": [
        {
          "output_type": "execute_result",
          "data": {
            "text/plain": [
              "tensor([[1.8102, 0.7009],\n",
              "        [1.6757, 1.0230]])"
            ]
          },
          "metadata": {},
          "execution_count": 23
        }
      ]
    },
    {
      "cell_type": "code",
      "source": [
        "#y is replaced by addition of x and y.\n",
        "z=x+y\n",
        "print(z)"
      ],
      "metadata": {
        "colab": {
          "base_uri": "https://localhost:8080/"
        },
        "id": "51xr4b6bnWtX",
        "outputId": "d2b72b0f-eddb-451a-ea61-a1883e8cb180"
      },
      "execution_count": 25,
      "outputs": [
        {
          "output_type": "stream",
          "name": "stdout",
          "text": [
            "tensor([[2.7509, 0.8341],\n",
            "        [2.6103, 1.6166]])\n"
          ]
        }
      ]
    },
    {
      "cell_type": "code",
      "source": [
        "x=torch.rand(5,3)"
      ],
      "metadata": {
        "id": "GV62vrGHngJk"
      },
      "execution_count": 27,
      "outputs": []
    },
    {
      "cell_type": "code",
      "source": [
        "x"
      ],
      "metadata": {
        "colab": {
          "base_uri": "https://localhost:8080/"
        },
        "id": "rRGMxzN0ns67",
        "outputId": "7cbee6e2-9dab-4be0-8f54-ce9e77a02a61"
      },
      "execution_count": 28,
      "outputs": [
        {
          "output_type": "execute_result",
          "data": {
            "text/plain": [
              "tensor([[0.0753, 0.8860, 0.5832],\n",
              "        [0.3376, 0.8090, 0.5779],\n",
              "        [0.9040, 0.5547, 0.3423],\n",
              "        [0.6343, 0.3644, 0.7104],\n",
              "        [0.9464, 0.7890, 0.2814]])"
            ]
          },
          "metadata": {},
          "execution_count": 28
        }
      ]
    },
    {
      "cell_type": "code",
      "source": [
        "x[:,0]   #1st column"
      ],
      "metadata": {
        "colab": {
          "base_uri": "https://localhost:8080/"
        },
        "id": "YvRAAsE0nyZ9",
        "outputId": "3f5b17c9-26bf-4d29-ed1b-e70de271a666"
      },
      "execution_count": 29,
      "outputs": [
        {
          "output_type": "execute_result",
          "data": {
            "text/plain": [
              "tensor([0.0753, 0.3376, 0.9040, 0.6343, 0.9464])"
            ]
          },
          "metadata": {},
          "execution_count": 29
        }
      ]
    },
    {
      "cell_type": "code",
      "source": [
        "x[:,1]"
      ],
      "metadata": {
        "colab": {
          "base_uri": "https://localhost:8080/"
        },
        "id": "RO_DL5TQn1at",
        "outputId": "8f58ff2f-e5b1-4e33-d792-28a4dcec0e91"
      },
      "execution_count": 30,
      "outputs": [
        {
          "output_type": "execute_result",
          "data": {
            "text/plain": [
              "tensor([0.8860, 0.8090, 0.5547, 0.3644, 0.7890])"
            ]
          },
          "metadata": {},
          "execution_count": 30
        }
      ]
    },
    {
      "cell_type": "code",
      "source": [
        "x=torch.rand(1)\n",
        "x"
      ],
      "metadata": {
        "colab": {
          "base_uri": "https://localhost:8080/"
        },
        "id": "CvnY-HD8n77q",
        "outputId": "d6abc898-5f98-4cab-ec3f-b7af449a52df"
      },
      "execution_count": 32,
      "outputs": [
        {
          "output_type": "execute_result",
          "data": {
            "text/plain": [
              "tensor([0.7886])"
            ]
          },
          "metadata": {},
          "execution_count": 32
        }
      ]
    },
    {
      "cell_type": "code",
      "source": [
        "x.item() #gives exact value of only 1 tensor"
      ],
      "metadata": {
        "colab": {
          "base_uri": "https://localhost:8080/"
        },
        "id": "MSOtF4zkoF6m",
        "outputId": "08c8fc3a-09f3-4594-bac3-f7e06533d5f7"
      },
      "execution_count": 33,
      "outputs": [
        {
          "output_type": "execute_result",
          "data": {
            "text/plain": [
              "0.788632333278656"
            ]
          },
          "metadata": {},
          "execution_count": 33
        }
      ]
    },
    {
      "cell_type": "code",
      "source": [
        "x=torch.rand(4,4)\n",
        "print(x)"
      ],
      "metadata": {
        "colab": {
          "base_uri": "https://localhost:8080/"
        },
        "id": "waUzX3d6oOr2",
        "outputId": "ed801549-64c4-49e3-b50e-e207e878e338"
      },
      "execution_count": 34,
      "outputs": [
        {
          "output_type": "stream",
          "name": "stdout",
          "text": [
            "tensor([[0.5895, 0.7539, 0.1952, 0.0050],\n",
            "        [0.3068, 0.1165, 0.9103, 0.6440],\n",
            "        [0.7071, 0.6581, 0.4913, 0.8913],\n",
            "        [0.1447, 0.5315, 0.1587, 0.6542]])\n"
          ]
        }
      ]
    },
    {
      "cell_type": "code",
      "source": [
        "x.view(16)\n",
        "#in just 1d tensor we get 16 values."
      ],
      "metadata": {
        "colab": {
          "base_uri": "https://localhost:8080/"
        },
        "id": "EfIGzBm9oVNN",
        "outputId": "6dc217c7-daf4-4246-c968-63c37ef3fa71"
      },
      "execution_count": 35,
      "outputs": [
        {
          "output_type": "execute_result",
          "data": {
            "text/plain": [
              "tensor([0.5895, 0.7539, 0.1952, 0.0050, 0.3068, 0.1165, 0.9103, 0.6440, 0.7071,\n",
              "        0.6581, 0.4913, 0.8913, 0.1447, 0.5315, 0.1587, 0.6542])"
            ]
          },
          "metadata": {},
          "execution_count": 35
        }
      ]
    },
    {
      "cell_type": "code",
      "source": [
        "#in the form of 3d tensor\n",
        "x.view(2,2,4)"
      ],
      "metadata": {
        "colab": {
          "base_uri": "https://localhost:8080/"
        },
        "id": "u8KV9TUzogXN",
        "outputId": "71f95ba5-3696-4513-f29b-0a930aa3b343"
      },
      "execution_count": 36,
      "outputs": [
        {
          "output_type": "execute_result",
          "data": {
            "text/plain": [
              "tensor([[[0.5895, 0.7539, 0.1952, 0.0050],\n",
              "         [0.3068, 0.1165, 0.9103, 0.6440]],\n",
              "\n",
              "        [[0.7071, 0.6581, 0.4913, 0.8913],\n",
              "         [0.1447, 0.5315, 0.1587, 0.6542]]])"
            ]
          },
          "metadata": {},
          "execution_count": 36
        }
      ]
    },
    {
      "cell_type": "code",
      "source": [
        "#converting tensor to numpy\n",
        "torch.ones(6)"
      ],
      "metadata": {
        "colab": {
          "base_uri": "https://localhost:8080/"
        },
        "id": "-l5dViriopLV",
        "outputId": "6e0e87e7-7b11-48c1-ec39-ae6b956e7b78"
      },
      "execution_count": 37,
      "outputs": [
        {
          "output_type": "execute_result",
          "data": {
            "text/plain": [
              "tensor([1., 1., 1., 1., 1., 1.])"
            ]
          },
          "metadata": {},
          "execution_count": 37
        }
      ]
    },
    {
      "cell_type": "code",
      "source": [
        "a=torch.ones(6)\n",
        "print(a)\n",
        "print(type(a))"
      ],
      "metadata": {
        "colab": {
          "base_uri": "https://localhost:8080/"
        },
        "id": "pt-pqWQ6ozGW",
        "outputId": "9ff399ff-85d4-4dcd-a42e-cb931cd2652e"
      },
      "execution_count": 38,
      "outputs": [
        {
          "output_type": "stream",
          "name": "stdout",
          "text": [
            "tensor([1., 1., 1., 1., 1., 1.])\n",
            "<class 'torch.Tensor'>\n"
          ]
        }
      ]
    },
    {
      "cell_type": "code",
      "source": [
        "b=a.numpy() #converting tensor to numpy"
      ],
      "metadata": {
        "id": "hYvjh_JFxhET"
      },
      "execution_count": 39,
      "outputs": []
    },
    {
      "cell_type": "code",
      "source": [
        "print(b)\n",
        "print(type(b))"
      ],
      "metadata": {
        "colab": {
          "base_uri": "https://localhost:8080/"
        },
        "id": "ZsfaPEgpxoJi",
        "outputId": "9e5952b2-a0a7-4818-a54e-0eb7c5ce27e0"
      },
      "execution_count": 40,
      "outputs": [
        {
          "output_type": "stream",
          "name": "stdout",
          "text": [
            "[1. 1. 1. 1. 1. 1.]\n",
            "<class 'numpy.ndarray'>\n"
          ]
        }
      ]
    },
    {
      "cell_type": "code",
      "source": [
        "a.add_(3)"
      ],
      "metadata": {
        "colab": {
          "base_uri": "https://localhost:8080/"
        },
        "id": "GURqVomfxsnC",
        "outputId": "0962cdf4-b8b6-4a91-a817-1f48cefaa833"
      },
      "execution_count": 41,
      "outputs": [
        {
          "output_type": "execute_result",
          "data": {
            "text/plain": [
              "tensor([4., 4., 4., 4., 4., 4.])"
            ]
          },
          "metadata": {},
          "execution_count": 41
        }
      ]
    },
    {
      "cell_type": "code",
      "source": [
        "print(a)"
      ],
      "metadata": {
        "colab": {
          "base_uri": "https://localhost:8080/"
        },
        "id": "j2ofizb0xylu",
        "outputId": "056c5b79-b820-4ede-9f70-94979cce6c73"
      },
      "execution_count": 42,
      "outputs": [
        {
          "output_type": "stream",
          "name": "stdout",
          "text": [
            "tensor([4., 4., 4., 4., 4., 4.])\n"
          ]
        }
      ]
    },
    {
      "cell_type": "code",
      "source": [
        "print(b)"
      ],
      "metadata": {
        "colab": {
          "base_uri": "https://localhost:8080/"
        },
        "id": "yQdMJn7cx27c",
        "outputId": "a06c13d5-17d7-4bf8-f189-f397d2b5d1cb"
      },
      "execution_count": 43,
      "outputs": [
        {
          "output_type": "stream",
          "name": "stdout",
          "text": [
            "[4. 4. 4. 4. 4. 4.]\n"
          ]
        }
      ]
    },
    {
      "cell_type": "code",
      "source": [
        "#numpy array is also changed as both point to same memory location of CPU.\n",
        "#so inplace operation on a changes b also."
      ],
      "metadata": {
        "id": "rEZYoCrwx46d"
      },
      "execution_count": 44,
      "outputs": []
    },
    {
      "cell_type": "code",
      "source": [
        "#converting numpy array to tensor\n",
        "import numpy as np\n",
        "a=np.ones(5)\n",
        "print(a)"
      ],
      "metadata": {
        "colab": {
          "base_uri": "https://localhost:8080/"
        },
        "id": "3mnU1hE1yI15",
        "outputId": "68af9260-fbaf-49e2-9e0c-f832be600d97"
      },
      "execution_count": 46,
      "outputs": [
        {
          "output_type": "stream",
          "name": "stdout",
          "text": [
            "[1. 1. 1. 1. 1.]\n"
          ]
        }
      ]
    },
    {
      "cell_type": "code",
      "source": [
        "b=torch.from_numpy(a)\n",
        "print(b)"
      ],
      "metadata": {
        "colab": {
          "base_uri": "https://localhost:8080/"
        },
        "id": "MdHs5kC8yYSi",
        "outputId": "d0aba367-6f55-42a4-d868-e325815740ac"
      },
      "execution_count": 47,
      "outputs": [
        {
          "output_type": "stream",
          "name": "stdout",
          "text": [
            "tensor([1., 1., 1., 1., 1.], dtype=torch.float64)\n"
          ]
        }
      ]
    },
    {
      "cell_type": "code",
      "source": [
        "a+=2\n",
        "print(a)"
      ],
      "metadata": {
        "colab": {
          "base_uri": "https://localhost:8080/"
        },
        "id": "k_jXU4coynXk",
        "outputId": "58f096f1-7a9e-462b-af04-71ab570d47c9"
      },
      "execution_count": 48,
      "outputs": [
        {
          "output_type": "stream",
          "name": "stdout",
          "text": [
            "[3. 3. 3. 3. 3.]\n"
          ]
        }
      ]
    },
    {
      "cell_type": "code",
      "source": [
        "print(b)"
      ],
      "metadata": {
        "colab": {
          "base_uri": "https://localhost:8080/"
        },
        "id": "8iP4Uphbyyj_",
        "outputId": "067e168c-7a3f-4c02-a355-bd56a40f5039"
      },
      "execution_count": 49,
      "outputs": [
        {
          "output_type": "stream",
          "name": "stdout",
          "text": [
            "tensor([3., 3., 3., 3., 3.], dtype=torch.float64)\n"
          ]
        }
      ]
    },
    {
      "cell_type": "code",
      "source": [
        "#tensor is also changed as both point to same location in CPU."
      ],
      "metadata": {
        "id": "_uCSNHZvyz68"
      },
      "execution_count": 50,
      "outputs": []
    },
    {
      "cell_type": "code",
      "source": [
        "#Backpropagation In Pytorch --> to calculate derivatives\n",
        "x=torch.tensor(4.,requires_grad=True)\n",
        "print(x)\n",
        "#input must be a floating point."
      ],
      "metadata": {
        "colab": {
          "base_uri": "https://localhost:8080/"
        },
        "id": "kQEtNWM8y8M5",
        "outputId": "639347e6-d3bd-445a-d6e4-81dcde0d9904"
      },
      "execution_count": 53,
      "outputs": [
        {
          "output_type": "stream",
          "name": "stdout",
          "text": [
            "tensor(4., requires_grad=True)\n"
          ]
        }
      ]
    },
    {
      "cell_type": "code",
      "source": [
        "y=x**3\n",
        "print(y)"
      ],
      "metadata": {
        "colab": {
          "base_uri": "https://localhost:8080/"
        },
        "id": "S3zAB8imzNpd",
        "outputId": "ce865641-7934-4aa3-b8d4-3dbee0d9bec4"
      },
      "execution_count": 54,
      "outputs": [
        {
          "output_type": "stream",
          "name": "stdout",
          "text": [
            "tensor(64., grad_fn=<PowBackward0>)\n"
          ]
        }
      ]
    },
    {
      "cell_type": "code",
      "source": [
        "#dy/dx=3x**2"
      ],
      "metadata": {
        "id": "Ykjk6PsGzkRX"
      },
      "execution_count": 55,
      "outputs": []
    },
    {
      "cell_type": "code",
      "source": [
        "y.backward()"
      ],
      "metadata": {
        "id": "kYBCvvYPz3KL"
      },
      "execution_count": 56,
      "outputs": []
    },
    {
      "cell_type": "code",
      "source": [
        "print(x.grad)"
      ],
      "metadata": {
        "colab": {
          "base_uri": "https://localhost:8080/"
        },
        "id": "wNYXO2iWz4sI",
        "outputId": "3196583c-358b-4dfd-81a4-2ec9daa3664f"
      },
      "execution_count": 57,
      "outputs": [
        {
          "output_type": "stream",
          "name": "stdout",
          "text": [
            "tensor(48.)\n"
          ]
        }
      ]
    },
    {
      "cell_type": "code",
      "source": [
        "#above we calculated derivative for x=4 in y."
      ],
      "metadata": {
        "id": "KtTzcNEUz6Ix"
      },
      "execution_count": 58,
      "outputs": []
    },
    {
      "cell_type": "code",
      "source": [
        "l1=[[2.,3.,5.],[6.,9.,11.],[13.,17.,18.]]\n",
        "x=torch.tensor(l1,requires_grad=True)\n",
        "print(x)"
      ],
      "metadata": {
        "colab": {
          "base_uri": "https://localhost:8080/"
        },
        "id": "JPSDqcDl0ChW",
        "outputId": "907fa297-9c7d-4ae1-b8af-87de2cb8b486"
      },
      "execution_count": 59,
      "outputs": [
        {
          "output_type": "stream",
          "name": "stdout",
          "text": [
            "tensor([[ 2.,  3.,  5.],\n",
            "        [ 6.,  9., 11.],\n",
            "        [13., 17., 18.]], requires_grad=True)\n"
          ]
        }
      ]
    },
    {
      "cell_type": "code",
      "source": [
        "#y=x**3+x**2\n",
        "#dy/dx=3x**2+2x\n",
        "y=x**3+x**2\n",
        "print(y)"
      ],
      "metadata": {
        "colab": {
          "base_uri": "https://localhost:8080/"
        },
        "id": "5eQQFmb21cTD",
        "outputId": "2b23f42f-a774-41bd-fc36-a3d9261955e9"
      },
      "execution_count": 60,
      "outputs": [
        {
          "output_type": "stream",
          "name": "stdout",
          "text": [
            "tensor([[  12.,   36.,  150.],\n",
            "        [ 252.,  810., 1452.],\n",
            "        [2366., 5202., 6156.]], grad_fn=<AddBackward0>)\n"
          ]
        }
      ]
    },
    {
      "cell_type": "code",
      "source": [
        "#y.backward() gives error as gradient gives scalar outputs.\n",
        "#so we do the following steps.\n",
        "z=y.sum()"
      ],
      "metadata": {
        "id": "aW4i3iT_11vl"
      },
      "execution_count": 61,
      "outputs": []
    },
    {
      "cell_type": "code",
      "source": [
        "print(z)"
      ],
      "metadata": {
        "colab": {
          "base_uri": "https://localhost:8080/"
        },
        "id": "Ni-k7kD92Ohg",
        "outputId": "02b68830-5f43-4d3a-e216-437e423666ec"
      },
      "execution_count": 62,
      "outputs": [
        {
          "output_type": "stream",
          "name": "stdout",
          "text": [
            "tensor(16436., grad_fn=<SumBackward0>)\n"
          ]
        }
      ]
    },
    {
      "cell_type": "code",
      "source": [
        "z.backward()"
      ],
      "metadata": {
        "id": "JenXiE3V2Qze"
      },
      "execution_count": 63,
      "outputs": []
    },
    {
      "cell_type": "code",
      "source": [
        "print(x.grad)"
      ],
      "metadata": {
        "colab": {
          "base_uri": "https://localhost:8080/"
        },
        "id": "JiwpNyIM2S1w",
        "outputId": "377a616e-c537-4003-f91c-8828892fa5a0"
      },
      "execution_count": 64,
      "outputs": [
        {
          "output_type": "stream",
          "name": "stdout",
          "text": [
            "tensor([[  16.,   33.,   85.],\n",
            "        [ 120.,  261.,  385.],\n",
            "        [ 533.,  901., 1008.]])\n"
          ]
        }
      ]
    },
    {
      "cell_type": "code",
      "source": [
        "#we get derivative or gradient at diff values of x."
      ],
      "metadata": {
        "id": "0rdec6JA2XUe"
      },
      "execution_count": 65,
      "outputs": []
    },
    {
      "cell_type": "code",
      "source": [],
      "metadata": {
        "id": "u-bvS6gZ2mZS"
      },
      "execution_count": null,
      "outputs": []
    }
  ]
}